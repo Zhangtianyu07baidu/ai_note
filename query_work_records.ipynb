{
 "cells": [
  {
   "cell_type": "markdown",
   "metadata": {},
   "source": [
    "基于工作记录，查询相关信息"
   ]
  },
  {
   "cell_type": "code",
   "execution_count": 1,
   "metadata": {},
   "outputs": [],
   "source": [
    "from ai_note.note import AINote\n",
    "note = AINote(True)"
   ]
  },
  {
   "cell_type": "markdown",
   "metadata": {},
   "source": [
    "拜访客户"
   ]
  },
  {
   "cell_type": "code",
   "execution_count": 2,
   "metadata": {},
   "outputs": [
    {
     "name": "stdout",
     "output_type": "stream",
     "text": [
      "work_time: 2024-05-15 00:00:00, work_detail: 拜访了客户王刚，他是大连自来水厂的主任，住泉水街16号，联系方式13121432577\n"
     ]
    },
    {
     "data": {
      "text/plain": [
       "'工作记录已成功保存，内容包括：\\n\\n- 日期：2024年5月15日\\n- 客户姓名：王刚\\n- 客户职位：大连自来水厂主任\\n- 客户住址：泉水街16号\\n- 联系方式：13121432577\\n\\n请放心，您的工作记录已安全保存在云端，方便您随时查看和检索。'"
      ]
     },
     "execution_count": 2,
     "metadata": {},
     "output_type": "execute_result"
    }
   ],
   "source": [
    "note.gpt_save(\"2024年5月15日，我拜访了客户王刚，他是大连自来水厂的主任，他家住在泉水街16号，他的联系方式是13121432577\")"
   ]
  },
  {
   "cell_type": "code",
   "execution_count": 3,
   "metadata": {},
   "outputs": [
    {
     "name": "stdout",
     "output_type": "stream",
     "text": [
      "work_time: 2024-05-15 00:00:00, work_detail: 拜访了客户李勇，他是瓦房店的局长，联系方式是13345672341\n"
     ]
    },
    {
     "data": {
      "text/plain": [
       "'已经成功保存您的工作记录：\\n\\n**时间**：2024年5月15日\\n**工作内容**：拜访了客户李勇\\n**客户姓名**：李勇\\n**客户职位**：瓦房店局长\\n**联系方式**：13345672341\\n\\n请放心，您的工作记录已安全保存在云端，方便您随时查看和检索。'"
      ]
     },
     "execution_count": 3,
     "metadata": {},
     "output_type": "execute_result"
    }
   ],
   "source": [
    "note.gpt_save(\"2024年5月15日，我拜访了客户李勇，他是瓦房店的局长，他的联系方式是13345672341\")"
   ]
  },
  {
   "cell_type": "markdown",
   "metadata": {},
   "source": [
    "查询"
   ]
  },
  {
   "cell_type": "code",
   "execution_count": 4,
   "metadata": {},
   "outputs": [
    {
     "name": "stdout",
     "output_type": "stream",
     "text": [
      "keyword: 2024年5月15日 拜访 客户\n",
      "query_result:\n",
      "{\n",
      "    \"content\": [\n",
      "        {\n",
      "            \"text\": \"2024-05-15 00:00:00：拜访了客户李勇，他是瓦房店的局长，联系方式是13345672341\",\n",
      "            \"meta\": \"{\\n    \\\"timestamp\\\": 1715702400\\n}\",\n",
      "            \"score\": 1.0\n",
      "        },\n",
      "        {\n",
      "            \"text\": \"2024-05-15 00:00:00：拜访了客户王刚，他是大连自来水厂的主任，住泉水街16号，联系方式13121432577\",\n",
      "            \"meta\": \"{\\n    \\\"timestamp\\\": 1715702400\\n}\",\n",
      "            \"score\": 0.5\n",
      "        }\n",
      "    ],\n",
      "    \"name\": \"msg\",\n",
      "    \"mtype\": \"list\",\n",
      "    \"id\": \"d6607c95-b5f5-4311-99bf-bf045d392fcf\"\n",
      "}\n",
      "【查询到的工作记录】\n",
      "Message(name=msg, content=[{'text': '2024-05-15 00:00:00：拜访了客户李勇，他是瓦房店的局长，联系方式是13345672341', 'meta': '{\\n    \"timestamp\": 1715702400\\n}', 'score': 1.0}, {'text': '2024-05-15 00:00:00：拜访了客户王刚，他是大连自来水厂的主任，住泉水街16号，联系方式13121432577', 'meta': '{\\n    \"timestamp\": 1715702400\\n}', 'score': 0.5}], mtype=list)\n",
      "【问题或要求】\n",
      "2024年5月15日，我都拜访了哪些客户？\n"
     ]
    },
    {
     "data": {
      "text/plain": [
       "'在2024年5月15日，您拜访了两位客户。分别是：\\n\\n1. **客户李勇**：他是瓦房店的局长，联系方式是13345672341。\\n2. **客户王刚**：他是大连自来水厂的主任，住在泉水街16号，联系方式是13121432577。\\n\\n这些是您在2024年5月15日拜访的客户信息。如果您需要进一步的帮助或有其他问题，请随时告诉我。'"
      ]
     },
     "execution_count": 4,
     "metadata": {},
     "output_type": "execute_result"
    }
   ],
   "source": [
    "note.gpt_query(\"2024年5月15日，我都拜访了哪些客户？\")"
   ]
  },
  {
   "cell_type": "code",
   "execution_count": 5,
   "metadata": {},
   "outputs": [
    {
     "name": "stdout",
     "output_type": "stream",
     "text": [
      "keyword: 客户王刚家庭住址\n",
      "query_result:\n",
      "{\n",
      "    \"content\": [\n",
      "        {\n",
      "            \"text\": \"2024-05-15 00:00:00：拜访了客户王刚，他是大连自来水厂的主任，住泉水街16号，联系方式13121432577\",\n",
      "            \"meta\": \"{\\n    \\\"timestamp\\\": 1715702400\\n}\",\n",
      "            \"score\": 1.0\n",
      "        },\n",
      "        {\n",
      "            \"text\": \"2024-05-15 00:00:00：拜访了客户李勇，他是瓦房店的局长，联系方式是13345672341\",\n",
      "            \"meta\": \"{\\n    \\\"timestamp\\\": 1715702400\\n}\",\n",
      "            \"score\": 0.5\n",
      "        }\n",
      "    ],\n",
      "    \"name\": \"msg\",\n",
      "    \"mtype\": \"list\",\n",
      "    \"id\": \"d6607c95-b5f5-4311-99bf-bf045d392fcf\"\n",
      "}\n",
      "【查询到的工作记录】\n",
      "Message(name=msg, content=[{'text': '2024-05-15 00:00:00：拜访了客户王刚，他是大连自来水厂的主任，住泉水街16号，联系方式13121432577', 'meta': '{\\n    \"timestamp\": 1715702400\\n}', 'score': 1.0}, {'text': '2024-05-15 00:00:00：拜访了客户李勇，他是瓦房店的局长，联系方式是13345672341', 'meta': '{\\n    \"timestamp\": 1715702400\\n}', 'score': 0.5}], mtype=list)\n",
      "【问题或要求】\n",
      "客户王刚家住在哪里？\n"
     ]
    },
    {
     "data": {
      "text/plain": [
       "'客户王刚家住在**泉水街16号**。'"
      ]
     },
     "execution_count": 5,
     "metadata": {},
     "output_type": "execute_result"
    }
   ],
   "source": [
    "note.gpt_query(\"客户王刚家住在哪里？\")"
   ]
  }
 ],
 "metadata": {
  "kernelspec": {
   "display_name": ".venv",
   "language": "python",
   "name": "python3"
  },
  "language_info": {
   "codemirror_mode": {
    "name": "ipython",
    "version": 3
   },
   "file_extension": ".py",
   "mimetype": "text/x-python",
   "name": "python",
   "nbconvert_exporter": "python",
   "pygments_lexer": "ipython3",
   "version": "3.10.8"
  }
 },
 "nbformat": 4,
 "nbformat_minor": 2
}
