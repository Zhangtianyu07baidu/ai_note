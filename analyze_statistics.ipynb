{
 "cells": [
  {
   "cell_type": "markdown",
   "metadata": {},
   "source": [
    "分析统计"
   ]
  },
  {
   "cell_type": "code",
   "execution_count": null,
   "metadata": {},
   "outputs": [],
   "source": [
    "from ai_note.note import AINote\n",
    "note = AINote(True)"
   ]
  },
  {
   "cell_type": "code",
   "execution_count": null,
   "metadata": {},
   "outputs": [],
   "source": [
    "note.call_gpt(\"2024年5月18日，我拜访了客户王刚，他是大连自来水的主任，他的联系方式是13823454563，我给他报了23万的预算，他说会考虑一下。\")"
   ]
  },
  {
   "cell_type": "code",
   "execution_count": null,
   "metadata": {},
   "outputs": [],
   "source": [
    "note.call_gpt(\"2024年5月19日，我拜访了客户李冰，他是大连理工大学的副主任，他的联系方式是13152479201，具体事宜还在沟通中，过几天再去拜访一下。\")"
   ]
  },
  {
   "cell_type": "code",
   "execution_count": null,
   "metadata": {},
   "outputs": [],
   "source": [
    "note.call_gpt(\"2024年5月19日，我拜访了客户李勇，他是瓦房店水利办的主任，他的微信号是wx_3423534525，他家住在红岭路12号，只是简单聊了一下，他对我们公司还是挺感兴趣的。\")"
   ]
  },
  {
   "cell_type": "code",
   "execution_count": null,
   "metadata": {},
   "outputs": [],
   "source": [
    "note.call_gpt(\"2024年5月20日，我拜访了客户王刚，他接受了我的预算，合同会在2天后签订。\")"
   ]
  },
  {
   "cell_type": "code",
   "execution_count": null,
   "metadata": {},
   "outputs": [],
   "source": [
    "note.call_gpt(\"今天，我和王刚签订了合同，他同意了我们的预算，合同金额最后为22万，合同编号为20240520。\")"
   ]
  },
  {
   "cell_type": "code",
   "execution_count": null,
   "metadata": {},
   "outputs": [],
   "source": [
    "note.call_gpt(\"从2024年5月18日到今天，帮我统计分析一下我拜访的客户以及次数，用简化的表格展示出来，只需统计客户姓名和拜访次数即可\")"
   ]
  },
  {
   "cell_type": "code",
   "execution_count": null,
   "metadata": {},
   "outputs": [],
   "source": [
    "note.call_gpt(\"从2024年5月18日到今天，帮我统计分析一下哪些客户能和我签约，以及签约金额\")"
   ]
  }
 ],
 "metadata": {
  "kernelspec": {
   "display_name": ".venv",
   "language": "python",
   "name": "python3"
  },
  "language_info": {
   "codemirror_mode": {
    "name": "ipython",
    "version": 3
   },
   "file_extension": ".py",
   "mimetype": "text/x-python",
   "name": "python",
   "nbconvert_exporter": "python",
   "pygments_lexer": "ipython3",
   "version": "3.10.8"
  }
 },
 "nbformat": 4,
 "nbformat_minor": 2
}
