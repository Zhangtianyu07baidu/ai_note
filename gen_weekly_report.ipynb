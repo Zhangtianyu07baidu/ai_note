{
 "cells": [
  {
   "cell_type": "markdown",
   "metadata": {},
   "source": [
    "每天提交工作内容，自动生成周报"
   ]
  },
  {
   "cell_type": "code",
   "execution_count": 2,
   "metadata": {},
   "outputs": [],
   "source": [
    "from ai_note.note import AINote\n",
    "note = AINote(True)"
   ]
  },
  {
   "cell_type": "markdown",
   "metadata": {},
   "source": [
    "周一"
   ]
  },
  {
   "cell_type": "code",
   "execution_count": 3,
   "metadata": {},
   "outputs": [
    {
     "name": "stdout",
     "output_type": "stream",
     "text": [
      "work_time: 2024-05-20 00:00:00, work_detail: 学习了百度千帆的appbuilder-sdk相关知识点\n"
     ]
    },
    {
     "data": {
      "text/plain": [
       "'工作记录已成功保存。保存内容如下：\\n\\n**时间**：2024年5月20日\\n**内容**：学习了百度千帆的appbuilder-sdk相关知识点\\n\\n您可以在需要时随时查看或搜索此工作记录。如果您还有其他工作记录需要保存，请随时告诉我。'"
      ]
     },
     "execution_count": 3,
     "metadata": {},
     "output_type": "execute_result"
    }
   ],
   "source": [
    "note.gpt_save(\"2024年5月20日，我学习了百度千帆的appbuilder-sdk相关知识点\")"
   ]
  },
  {
   "cell_type": "markdown",
   "metadata": {},
   "source": [
    "周二"
   ]
  },
  {
   "cell_type": "code",
   "execution_count": 3,
   "metadata": {},
   "outputs": [
    {
     "name": "stdout",
     "output_type": "stream",
     "text": [
      "work_time: 2024-05-21 00:00:00, work_detail: 参加了小说场景化提取方案的研讨会，编写了场景化提取工作流及相关提示词\n"
     ]
    },
    {
     "data": {
      "text/plain": [
       "'已经成功保存您的工作记录：\\n\\n**时间**：2024年5月21日\\n**内容**：参加了小说场景化提取方案的讨论会，编写了场景化提取工作流及相关提示词\\n\\n请放心，您的工作记录已安全保存在云端，方便您随时查看和回顾。'"
      ]
     },
     "execution_count": 3,
     "metadata": {},
     "output_type": "execute_result"
    }
   ],
   "source": [
    "note.gpt_save(\"2024年5月21日，我参加了小说场景化提取方案的讨论会，编写了场景化提取工作流及相关提示词\")"
   ]
  },
  {
   "cell_type": "markdown",
   "metadata": {},
   "source": [
    "周三"
   ]
  },
  {
   "cell_type": "code",
   "execution_count": 4,
   "metadata": {},
   "outputs": [
    {
     "name": "stdout",
     "output_type": "stream",
     "text": [
      "work_time: 2024-05-22 15:16:35, work_detail: 编写了千帆业务提效的demo，争取帮助相关业务提高工作效率，减少重复劳动\n"
     ]
    },
    {
     "data": {
      "text/plain": [
       "'工作记录已成功保存：\\n\\n**时间**：2024年5月22日 15:16:35\\n**内容**：编写了千帆业务提效的demo，争取帮助相关业务提高工作效率，减少重复劳动\\n\\n请放心，您的工作记录已安全保存在云端，方便您随时查看和回顾。'"
      ]
     },
     "execution_count": 4,
     "metadata": {},
     "output_type": "execute_result"
    }
   ],
   "source": [
    "note.gpt_save(\"2024年5月22日，我编写了千帆业务提效的demo，争取帮助相关业务提高工作效率，减少重复劳动\")"
   ]
  },
  {
   "cell_type": "markdown",
   "metadata": {},
   "source": [
    "周四"
   ]
  },
  {
   "cell_type": "code",
   "execution_count": 7,
   "metadata": {},
   "outputs": [
    {
     "name": "stdout",
     "output_type": "stream",
     "text": [
      "work_time: 2024-05-23 00:00:00, work_detail: 和深研同事讨论了群聊实现方案\n"
     ]
    },
    {
     "data": {
      "text/plain": [
       "'工作记录已成功保存。内容如下：\\n\\n2024年5月23日，和深研同事讨论了群聊实现方案。\\n\\n请放心，您的工作记录已安全保存在云端，方便您随时查看和回顾。'"
      ]
     },
     "execution_count": 7,
     "metadata": {},
     "output_type": "execute_result"
    }
   ],
   "source": [
    "note.gpt_save(\"2024年5月23日，和深研同事讨论了群聊实现方案\")"
   ]
  },
  {
   "cell_type": "markdown",
   "metadata": {},
   "source": [
    "周五"
   ]
  },
  {
   "cell_type": "code",
   "execution_count": 8,
   "metadata": {},
   "outputs": [
    {
     "name": "stdout",
     "output_type": "stream",
     "text": [
      "work_time: 2024-05-23 00:00:00, work_detail: 今天暂无重要事项\n"
     ]
    },
    {
     "data": {
      "text/plain": [
       "'已为您保存工作记录：\\n\\n**时间**：2024年5月23日\\n**内容**：今天暂无重要事项\\n\\n请放心，该工作记录已安全保存在云端，方便您随时查看和检索。'"
      ]
     },
     "execution_count": 8,
     "metadata": {},
     "output_type": "execute_result"
    }
   ],
   "source": [
    "note.gpt_save(\"2024年5月24日，今天主要讨论了日文小说爬取方案\")"
   ]
  },
  {
   "cell_type": "markdown",
   "metadata": {},
   "source": [
    "生成周报"
   ]
  },
  {
   "cell_type": "code",
   "execution_count": null,
   "metadata": {},
   "outputs": [],
   "source": [
    "note.gpt_analysis(\"为我生成本周的周报，只需要保留重要事项即可\")"
   ]
  }
 ],
 "metadata": {
  "kernelspec": {
   "display_name": ".venv",
   "language": "python",
   "name": "python3"
  },
  "language_info": {
   "codemirror_mode": {
    "name": "ipython",
    "version": 3
   },
   "file_extension": ".py",
   "mimetype": "text/x-python",
   "name": "python",
   "nbconvert_exporter": "python",
   "pygments_lexer": "ipython3",
   "version": "3.10.8"
  }
 },
 "nbformat": 4,
 "nbformat_minor": 2
}
