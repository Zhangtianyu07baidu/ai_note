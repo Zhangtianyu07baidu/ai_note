{
 "cells": [
  {
   "cell_type": "markdown",
   "metadata": {},
   "source": [
    "每天提交工作内容，自动生成周报"
   ]
  },
  {
   "cell_type": "code",
   "execution_count": null,
   "metadata": {},
   "outputs": [],
   "source": [
    "from ai_note.note import AINote\n",
    "note = AINote(True)"
   ]
  },
  {
   "cell_type": "markdown",
   "metadata": {},
   "source": [
    "周一"
   ]
  },
  {
   "cell_type": "code",
   "execution_count": null,
   "metadata": {},
   "outputs": [],
   "source": [
    "note.call_gpt(\"2024年5月20日，我学习了百度千帆的appbuilder-sdk相关知识点\")"
   ]
  },
  {
   "cell_type": "markdown",
   "metadata": {},
   "source": [
    "周二"
   ]
  },
  {
   "cell_type": "code",
   "execution_count": null,
   "metadata": {},
   "outputs": [],
   "source": [
    "note.call_gpt(\"2024年5月21日，我参加了小说场景化提取方案的讨论会，编写了场景化提取工作流及相关提示词\")"
   ]
  },
  {
   "cell_type": "markdown",
   "metadata": {},
   "source": [
    "周三"
   ]
  },
  {
   "cell_type": "code",
   "execution_count": null,
   "metadata": {},
   "outputs": [],
   "source": [
    "note.call_gpt(\"2024年5月22日，我编写了千帆业务提效的demo，争取帮助相关业务提高工作效率，减少重复劳动\")"
   ]
  },
  {
   "cell_type": "markdown",
   "metadata": {},
   "source": [
    "周四"
   ]
  },
  {
   "cell_type": "code",
   "execution_count": null,
   "metadata": {},
   "outputs": [],
   "source": [
    "note.call_gpt(\"2024年5月23日，和深研同事讨论了群聊实现方案\")"
   ]
  },
  {
   "cell_type": "markdown",
   "metadata": {},
   "source": [
    "周五"
   ]
  },
  {
   "cell_type": "code",
   "execution_count": null,
   "metadata": {},
   "outputs": [],
   "source": [
    "note.call_gpt(\"2024年5月24日，今天主要讨论了日文小说爬取方案\")"
   ]
  },
  {
   "cell_type": "markdown",
   "metadata": {},
   "source": [
    "生成周报"
   ]
  },
  {
   "cell_type": "code",
   "execution_count": null,
   "metadata": {},
   "outputs": [],
   "source": [
    "note.call_gpt(\"为我生成本周的周报，只需要保留重要事项即可\")"
   ]
  }
 ],
 "metadata": {
  "kernelspec": {
   "display_name": ".venv",
   "language": "python",
   "name": "python3"
  },
  "language_info": {
   "codemirror_mode": {
    "name": "ipython",
    "version": 3
   },
   "file_extension": ".py",
   "mimetype": "text/x-python",
   "name": "python",
   "nbconvert_exporter": "python",
   "pygments_lexer": "ipython3",
   "version": "3.10.8"
  }
 },
 "nbformat": 4,
 "nbformat_minor": 2
}
